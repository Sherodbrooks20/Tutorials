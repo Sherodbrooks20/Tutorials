{
 "cells": [
  {
   "cell_type": "code",
   "execution_count": 4,
   "id": "20e04171",
   "metadata": {},
   "outputs": [
    {
     "name": "stdout",
     "output_type": "stream",
     "text": [
      "Welcome to me quiz game\n",
      "Do you want to play: l\n",
      "Okay, let's play: \n",
      "What NBA team plays in Philadelphia: l\n",
      "Incorrect\n",
      "Who's the best player of all time: ll\n",
      "Incorrect\n",
      "What team won the NBA Championship in 1984: l\n",
      "Incorrect\n",
      "What NBA team drafted Bill Walton: l\n",
      "Incorrect\n",
      "Who holds the record for the most points in a NBA finals game: l\n",
      "Incorrect\n",
      "you got 0 right\n",
      "you got 0.0%\n"
     ]
    }
   ],
   "source": [
    "print(\"Welcome to me quiz game\")\n",
    "\n",
    "playing = input(\"Do you want to play: \")\n",
    "\n",
    "if playing.lower() != \"yes\":\n",
    "    quit()\n",
    "print(\"Okay, let's play: \")\n",
    "score = 0\n",
    "answer = input(\"What NBA team plays in Philadelphia: \")\n",
    "if answer == \"76ers\":\n",
    "    print(\"Correct\")\n",
    "    score += 1\n",
    "else:\n",
    "    print(\"Incorrect\")\n",
    "\n",
    "answer = input(\"Who's the best player of all time: \")\n",
    "if answer == \"Michael Jordan\":\n",
    "    print(\"Correct\")\n",
    "    score += 1\n",
    "else:\n",
    "    print(\"Incorrect\")\n",
    "\n",
    "answer = input(\"What team won the NBA Championship in 1984: \")\n",
    "if answer == \"Boston Celtics\":\n",
    "    print(\"Correct\")\n",
    "    score += 1\n",
    "else:\n",
    "    print(\"Incorrect\")\n",
    "\n",
    "answer = input(\"What NBA team drafted Bill Walton: \")\n",
    "if answer == \"Portland Trailblazers\":\n",
    "    print(\"Correct\")\n",
    "    score += 1\n",
    "else:\n",
    "    print(\"Incorrect\")\n",
    "\n",
    "answer = input(\"Who holds the record for the most points in a NBA finals game: \")\n",
    "if answer == \"Elgin Baylor\":\n",
    "    print(\"Correct\")\n",
    "    score += 1\n",
    "else:\n",
    "    print(\"Incorrect\")\n",
    "\n",
    "print(\"you got \" + str(score) + \" right\")\n",
    "print(\"you got \" + str(score/5 *100) + \"%\")"
   ]
  },
  {
   "cell_type": "code",
   "execution_count": null,
   "id": "76c68809",
   "metadata": {},
   "outputs": [],
   "source": []
  }
 ],
 "metadata": {
  "kernelspec": {
   "display_name": "Python 3 (ipykernel)",
   "language": "python",
   "name": "python3"
  },
  "language_info": {
   "codemirror_mode": {
    "name": "ipython",
    "version": 3
   },
   "file_extension": ".py",
   "mimetype": "text/x-python",
   "name": "python",
   "nbconvert_exporter": "python",
   "pygments_lexer": "ipython3",
   "version": "3.11.5"
  }
 },
 "nbformat": 4,
 "nbformat_minor": 5
}
