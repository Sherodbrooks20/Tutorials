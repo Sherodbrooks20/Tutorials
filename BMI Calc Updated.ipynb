{
 "cells": [
  {
   "cell_type": "markdown",
   "id": "f30b70f9",
   "metadata": {},
   "source": [
    "BMI Calculator\n",
    "\n",
    "https://mercer-health.com/services/weight-management-center/bmi-calculator#:~:text=Body%20Mass%20Index%2C%20or%20BMI,inches%20x%20height%20in%20inches"
   ]
  },
  {
   "cell_type": "code",
   "execution_count": 2,
   "id": "031b9f35",
   "metadata": {},
   "outputs": [
    {
     "name": "stdout",
     "output_type": "stream",
     "text": [
      "Enter your name: sherod\n",
      "Enter your weight in pounds: 150\n",
      "Enter your weight in inches: 65\n",
      "24.958579881656803\n",
      "sherod, you are Normal Weight\n"
     ]
    }
   ],
   "source": [
    "name = input('Enter your name: ')\n",
    "\n",
    "weight = int(input('Enter your weight in pounds: '))\n",
    "\n",
    "height = int(input('Enter your weight in inches: '))\n",
    "\n",
    "BMI = (weight * 703) / (height * height)\n",
    "\n",
    "print(BMI)\n",
    "\n",
    "if BMI < 18.5:\n",
    "    print(name + ', you are Underweight')\n",
    "elif BMI >= 18.5 and BMI <= 25:\n",
    "    print(name + ', you are Normal Weight')\n",
    "elif BMI >= 25 and BMI <= 30:\n",
    "    print(name + ', you are Overweight')\n",
    "elif BMI >= 30 and BMI <= 35:\n",
    "    print(name + ', you are Obese')\n",
    "elif BMI >= 35 and BMI <= 40:\n",
    "    print(name + ', you are Severly Obese')\n",
    "else:\n",
    "    print(name + ', you are Morbidly Obese')"
   ]
  },
  {
   "cell_type": "code",
   "execution_count": null,
   "id": "a82445a4",
   "metadata": {},
   "outputs": [],
   "source": []
  }
 ],
 "metadata": {
  "kernelspec": {
   "display_name": "Python 3 (ipykernel)",
   "language": "python",
   "name": "python3"
  },
  "language_info": {
   "codemirror_mode": {
    "name": "ipython",
    "version": 3
   },
   "file_extension": ".py",
   "mimetype": "text/x-python",
   "name": "python",
   "nbconvert_exporter": "python",
   "pygments_lexer": "ipython3",
   "version": "3.9.13"
  }
 },
 "nbformat": 4,
 "nbformat_minor": 5
}
