{
 "cells": [
  {
   "cell_type": "code",
   "execution_count": 1,
   "id": "0dbc4f2c",
   "metadata": {},
   "outputs": [
    {
     "name": "stdout",
     "output_type": "stream",
     "text": [
      "Enter your name: Sherod\n",
      "Welcome  Sherod to this adventure.\n",
      "You're on a road. Go left or right: left\n",
      "You've came to a river. Walk around or swin through.walk\n",
      "you walked around and see two poachers, now you have to fight them or run awayrun\n",
      "You ran but they shot you, dead\n"
     ]
    }
   ],
   "source": [
    "name = input(\"Enter your name: \")\n",
    "print(\"Welcome \", name, \"to this adventure.\" )\n",
    "\n",
    "answer = input(\n",
    "    \"You're on a road. Go left or right: \"\n",
    ").lower()\n",
    "\n",
    "if answer == \"left\":\n",
    "    answer = input(\"You've came to a river. Walk around or swin through.\").lower()\n",
    "    if answer == \"walk\":\n",
    "        answer = input(\"you walked around and see two poachers, now you have to fight them or run away\").lower()\n",
    "        if answer == \"fight\":\n",
    "            print(\"you died\")\n",
    "        elif answer == \"run\":\n",
    "            print(\"You ran but they shot you, dead\")\n",
    "        else:\n",
    "            print(\"Lost, enter a valid answer\")\n",
    "    elif answer == \"swim\":\n",
    "        print(\"you swam across and drowned\")\n",
    "    else:\n",
    "        print(\"Lost, enter a valid answer\")\n",
    "elif answer == \"right\":\n",
    "    print(\"You came to a bridge, go back or walk across\").lower()\n",
    "    if answer == 'back':\n",
    "        answer = input('you back up but there is a bear there, cross or fight').lower()\n",
    "        if answer == 'fight':\n",
    "            print('mauled to death')\n",
    "        elif answer == 'cross':\n",
    "            print('bridge collapsed')\n",
    "        else:\n",
    "            print(\"Lost, enter a valid answer\")\n",
    "    elif answer == 'cross':\n",
    "        print(\"the bridge collapsed\")\n",
    "else:\n",
    "    print(\"Lost, enter a valid answer\")\n"
   ]
  },
  {
   "cell_type": "code",
   "execution_count": null,
   "id": "b353463f",
   "metadata": {},
   "outputs": [],
   "source": []
  }
 ],
 "metadata": {
  "kernelspec": {
   "display_name": "Python 3 (ipykernel)",
   "language": "python",
   "name": "python3"
  },
  "language_info": {
   "codemirror_mode": {
    "name": "ipython",
    "version": 3
   },
   "file_extension": ".py",
   "mimetype": "text/x-python",
   "name": "python",
   "nbconvert_exporter": "python",
   "pygments_lexer": "ipython3",
   "version": "3.11.5"
  }
 },
 "nbformat": 4,
 "nbformat_minor": 5
}
